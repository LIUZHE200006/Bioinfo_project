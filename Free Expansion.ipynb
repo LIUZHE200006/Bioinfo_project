{
 "cells": [
  {
   "attachments": {},
   "cell_type": "markdown",
   "metadata": {},
   "source": [
    "LIN28A binding predictor 제작  \n",
    "논문에 supplementary table 3로 포함된 binding site 결과를 토대로 machine learning model을 만들어서 예측하는 predictor를 훈련하고 평가해 봅니다.\n"
   ]
  },
  {
   "cell_type": "code",
   "execution_count": 2,
   "metadata": {},
   "outputs": [],
   "source": [
    "import lightgbm as lgb\n",
    "import pandas as pd\n",
    "from sklearn.model_selection import train_test_split\n",
    "from sklearn.metrics import mean_squared_error"
   ]
  },
  {
   "cell_type": "code",
   "execution_count": null,
   "metadata": {},
   "outputs": [],
   "source": [
    "data = pd.read_excel(\"mmc3.xls\")"
   ]
  },
  {
   "cell_type": "code",
   "execution_count": null,
   "metadata": {},
   "outputs": [],
   "source": [
    "\n",
    "# split the features and target variable \n",
    "X =    #features\n",
    "y =    #binding label\n",
    "\n",
    "# split traing set ang test set\n",
    "X_train, X_test, y_train, y_test = train_test_split(X, y, test_size=0.2, random_state=42)\n",
    "\n",
    "# create LightGBM dataset\n",
    "train_data = lgb.Dataset(X_train, label=y_train)\n",
    "\n",
    "# set LightGBM parameter\n",
    "params = {\n",
    "    'max_depth':\n",
    "    'objective': 'regression',  #prob\n",
    "    'metric': 'rmse'  \n",
    "}\n",
    "\n",
    "# train the LightGBM model\n",
    "model = lgb.train(params, train_data)\n",
    "\n",
    "# predict on the teat set\n",
    "y_pred = model.predict(X_test)\n",
    "\n",
    "# calculate the mean standard error\n",
    "mse = mean_squared_error(y_test, y_pred)\n",
    "rmse=mse ** 0.5\n",
    "print('RMSE:', rmse)\n"
   ]
  }
 ],
 "metadata": {
  "kernelspec": {
   "display_name": "Python 3",
   "language": "python",
   "name": "python3"
  },
  "language_info": {
   "codemirror_mode": {
    "name": "ipython",
    "version": 3
   },
   "file_extension": ".py",
   "mimetype": "text/x-python",
   "name": "python",
   "nbconvert_exporter": "python",
   "pygments_lexer": "ipython3",
   "version": "3.9.12"
  },
  "orig_nbformat": 4
 },
 "nbformat": 4,
 "nbformat_minor": 2
}
