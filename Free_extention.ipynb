{
 "cells": [
  {
   "cell_type": "code",
   "execution_count": null,
   "metadata": {
    "id": "o3vbErniMuHc"
   },
   "outputs": [],
   "source": [
    "!wget --no-check-certificate -O /home/zliu/bioinfoproject/binfo1-datapack1/gencode.gtf.gz http://ftp.ebi.ac.uk/pub/databases/gencode/Gencode_mouse/release_M27/gencode.vM27.annotation.gtf.gz"
   ]
  },
  {
   "attachments": {},
   "cell_type": "markdown",
   "metadata": {
    "id": "cEsuYjeoMuHc"
   },
   "source": [
    "다루기 쉽도록 Annotation 압축을 풉니다."
   ]
  },
  {
   "cell_type": "code",
   "execution_count": 1,
   "metadata": {
    "id": "IANz6DmLUkA6"
   },
   "outputs": [
    {
     "name": "stdout",
     "output_type": "stream",
     "text": [
      "/home/zliu/bioinfoproject/binfo1-work\n"
     ]
    }
   ],
   "source": [
    "%cd /home/zliu/bioinfoproject/binfo1-work/"
   ]
  },
  {
   "attachments": {},
   "cell_type": "markdown",
   "metadata": {},
   "source": [
    "to get the bam file (CLIP-Seq）for each chromosome"
   ]
  },
  {
   "cell_type": "code",
   "execution_count": 13,
   "metadata": {},
   "outputs": [
    {
     "name": "stderr",
     "output_type": "stream",
     "text": [
      "samtools: /home/zliu/miniconda3/bin/../lib/libtinfow.so.6: no version information available (required by samtools)\n",
      "samtools: /home/zliu/miniconda3/bin/../lib/libncursesw.so.6: no version information available (required by samtools)\n",
      "samtools: /home/zliu/miniconda3/bin/../lib/libncursesw.so.6: no version information available (required by samtools)\n",
      "samtools: /home/zliu/miniconda3/bin/../lib/libtinfow.so.6: no version information available (required by samtools)\n",
      "samtools: /home/zliu/miniconda3/bin/../lib/libncursesw.so.6: no version information available (required by samtools)\n",
      "samtools: /home/zliu/miniconda3/bin/../lib/libncursesw.so.6: no version information available (required by samtools)\n"
     ]
    },
    {
     "name": "stdout",
     "output_type": "stream",
     "text": [
      "chr1: 2912078\n"
     ]
    },
    {
     "name": "stderr",
     "output_type": "stream",
     "text": [
      "samtools: /home/zliu/miniconda3/bin/../lib/libtinfow.so.6: no version information available (required by samtools)\n",
      "samtools: /home/zliu/miniconda3/bin/../lib/libncursesw.so.6: no version information available (required by samtools)\n",
      "samtools: /home/zliu/miniconda3/bin/../lib/libncursesw.so.6: no version information available (required by samtools)\n",
      "samtools: /home/zliu/miniconda3/bin/../lib/libtinfow.so.6: no version information available (required by samtools)\n",
      "samtools: /home/zliu/miniconda3/bin/../lib/libncursesw.so.6: no version information available (required by samtools)\n",
      "samtools: /home/zliu/miniconda3/bin/../lib/libncursesw.so.6: no version information available (required by samtools)\n"
     ]
    },
    {
     "name": "stdout",
     "output_type": "stream",
     "text": [
      "chr2: 2216553\n"
     ]
    },
    {
     "name": "stderr",
     "output_type": "stream",
     "text": [
      "samtools: /home/zliu/miniconda3/bin/../lib/libtinfow.so.6: no version information available (required by samtools)\n",
      "samtools: /home/zliu/miniconda3/bin/../lib/libncursesw.so.6: no version information available (required by samtools)\n",
      "samtools: /home/zliu/miniconda3/bin/../lib/libncursesw.so.6: no version information available (required by samtools)\n",
      "samtools: /home/zliu/miniconda3/bin/../lib/libtinfow.so.6: no version information available (required by samtools)\n",
      "samtools: /home/zliu/miniconda3/bin/../lib/libncursesw.so.6: no version information available (required by samtools)\n",
      "samtools: /home/zliu/miniconda3/bin/../lib/libncursesw.so.6: no version information available (required by samtools)\n"
     ]
    },
    {
     "name": "stdout",
     "output_type": "stream",
     "text": [
      "chr3: 1726860\n"
     ]
    },
    {
     "name": "stderr",
     "output_type": "stream",
     "text": [
      "samtools: /home/zliu/miniconda3/bin/../lib/libtinfow.so.6: no version information available (required by samtools)\n",
      "samtools: /home/zliu/miniconda3/bin/../lib/libncursesw.so.6: no version information available (required by samtools)\n",
      "samtools: /home/zliu/miniconda3/bin/../lib/libncursesw.so.6: no version information available (required by samtools)\n",
      "samtools: /home/zliu/miniconda3/bin/../lib/libtinfow.so.6: no version information available (required by samtools)\n",
      "samtools: /home/zliu/miniconda3/bin/../lib/libncursesw.so.6: no version information available (required by samtools)\n",
      "samtools: /home/zliu/miniconda3/bin/../lib/libncursesw.so.6: no version information available (required by samtools)\n"
     ]
    },
    {
     "name": "stdout",
     "output_type": "stream",
     "text": [
      "chr4: 2290061\n"
     ]
    },
    {
     "name": "stderr",
     "output_type": "stream",
     "text": [
      "samtools: /home/zliu/miniconda3/bin/../lib/libtinfow.so.6: no version information available (required by samtools)\n",
      "samtools: /home/zliu/miniconda3/bin/../lib/libncursesw.so.6: no version information available (required by samtools)\n",
      "samtools: /home/zliu/miniconda3/bin/../lib/libncursesw.so.6: no version information available (required by samtools)\n",
      "samtools: /home/zliu/miniconda3/bin/../lib/libtinfow.so.6: no version information available (required by samtools)\n",
      "samtools: /home/zliu/miniconda3/bin/../lib/libncursesw.so.6: no version information available (required by samtools)\n",
      "samtools: /home/zliu/miniconda3/bin/../lib/libncursesw.so.6: no version information available (required by samtools)\n"
     ]
    },
    {
     "name": "stdout",
     "output_type": "stream",
     "text": [
      "chr5: 1671681\n"
     ]
    },
    {
     "name": "stderr",
     "output_type": "stream",
     "text": [
      "samtools: /home/zliu/miniconda3/bin/../lib/libtinfow.so.6: no version information available (required by samtools)\n",
      "samtools: /home/zliu/miniconda3/bin/../lib/libncursesw.so.6: no version information available (required by samtools)\n",
      "samtools: /home/zliu/miniconda3/bin/../lib/libncursesw.so.6: no version information available (required by samtools)\n",
      "samtools: /home/zliu/miniconda3/bin/../lib/libtinfow.so.6: no version information available (required by samtools)\n",
      "samtools: /home/zliu/miniconda3/bin/../lib/libncursesw.so.6: no version information available (required by samtools)\n",
      "samtools: /home/zliu/miniconda3/bin/../lib/libncursesw.so.6: no version information available (required by samtools)\n"
     ]
    },
    {
     "name": "stdout",
     "output_type": "stream",
     "text": [
      "chr6: 1716693\n"
     ]
    },
    {
     "name": "stderr",
     "output_type": "stream",
     "text": [
      "samtools: /home/zliu/miniconda3/bin/../lib/libtinfow.so.6: no version information available (required by samtools)\n",
      "samtools: /home/zliu/miniconda3/bin/../lib/libncursesw.so.6: no version information available (required by samtools)\n",
      "samtools: /home/zliu/miniconda3/bin/../lib/libncursesw.so.6: no version information available (required by samtools)\n",
      "samtools: /home/zliu/miniconda3/bin/../lib/libtinfow.so.6: no version information available (required by samtools)\n",
      "samtools: /home/zliu/miniconda3/bin/../lib/libncursesw.so.6: no version information available (required by samtools)\n",
      "samtools: /home/zliu/miniconda3/bin/../lib/libncursesw.so.6: no version information available (required by samtools)\n"
     ]
    },
    {
     "name": "stdout",
     "output_type": "stream",
     "text": [
      "chr7: 1607064\n"
     ]
    },
    {
     "name": "stderr",
     "output_type": "stream",
     "text": [
      "samtools: /home/zliu/miniconda3/bin/../lib/libtinfow.so.6: no version information available (required by samtools)\n",
      "samtools: /home/zliu/miniconda3/bin/../lib/libncursesw.so.6: no version information available (required by samtools)\n",
      "samtools: /home/zliu/miniconda3/bin/../lib/libncursesw.so.6: no version information available (required by samtools)\n",
      "samtools: /home/zliu/miniconda3/bin/../lib/libtinfow.so.6: no version information available (required by samtools)\n",
      "samtools: /home/zliu/miniconda3/bin/../lib/libncursesw.so.6: no version information available (required by samtools)\n",
      "samtools: /home/zliu/miniconda3/bin/../lib/libncursesw.so.6: no version information available (required by samtools)\n"
     ]
    },
    {
     "name": "stdout",
     "output_type": "stream",
     "text": [
      "chr8: 1980078\n"
     ]
    },
    {
     "name": "stderr",
     "output_type": "stream",
     "text": [
      "samtools: /home/zliu/miniconda3/bin/../lib/libtinfow.so.6: no version information available (required by samtools)\n",
      "samtools: /home/zliu/miniconda3/bin/../lib/libncursesw.so.6: no version information available (required by samtools)\n",
      "samtools: /home/zliu/miniconda3/bin/../lib/libncursesw.so.6: no version information available (required by samtools)\n",
      "samtools: /home/zliu/miniconda3/bin/../lib/libtinfow.so.6: no version information available (required by samtools)\n",
      "samtools: /home/zliu/miniconda3/bin/../lib/libncursesw.so.6: no version information available (required by samtools)\n",
      "samtools: /home/zliu/miniconda3/bin/../lib/libncursesw.so.6: no version information available (required by samtools)\n"
     ]
    },
    {
     "name": "stdout",
     "output_type": "stream",
     "text": [
      "chr9: 1698825\n"
     ]
    },
    {
     "name": "stderr",
     "output_type": "stream",
     "text": [
      "samtools: /home/zliu/miniconda3/bin/../lib/libtinfow.so.6: no version information available (required by samtools)\n",
      "samtools: /home/zliu/miniconda3/bin/../lib/libncursesw.so.6: no version information available (required by samtools)\n",
      "samtools: /home/zliu/miniconda3/bin/../lib/libncursesw.so.6: no version information available (required by samtools)\n",
      "samtools: /home/zliu/miniconda3/bin/../lib/libtinfow.so.6: no version information available (required by samtools)\n",
      "samtools: /home/zliu/miniconda3/bin/../lib/libncursesw.so.6: no version information available (required by samtools)\n",
      "samtools: /home/zliu/miniconda3/bin/../lib/libncursesw.so.6: no version information available (required by samtools)\n"
     ]
    },
    {
     "name": "stdout",
     "output_type": "stream",
     "text": [
      "chr10: 1470488\n"
     ]
    },
    {
     "name": "stderr",
     "output_type": "stream",
     "text": [
      "samtools: /home/zliu/miniconda3/bin/../lib/libtinfow.so.6: no version information available (required by samtools)\n",
      "samtools: /home/zliu/miniconda3/bin/../lib/libncursesw.so.6: no version information available (required by samtools)\n",
      "samtools: /home/zliu/miniconda3/bin/../lib/libncursesw.so.6: no version information available (required by samtools)\n",
      "samtools: /home/zliu/miniconda3/bin/../lib/libtinfow.so.6: no version information available (required by samtools)\n",
      "samtools: /home/zliu/miniconda3/bin/../lib/libncursesw.so.6: no version information available (required by samtools)\n",
      "samtools: /home/zliu/miniconda3/bin/../lib/libncursesw.so.6: no version information available (required by samtools)\n"
     ]
    },
    {
     "name": "stdout",
     "output_type": "stream",
     "text": [
      "chr11: 2473335\n"
     ]
    },
    {
     "name": "stderr",
     "output_type": "stream",
     "text": [
      "samtools: /home/zliu/miniconda3/bin/../lib/libtinfow.so.6: no version information available (required by samtools)\n",
      "samtools: /home/zliu/miniconda3/bin/../lib/libncursesw.so.6: no version information available (required by samtools)\n",
      "samtools: /home/zliu/miniconda3/bin/../lib/libncursesw.so.6: no version information available (required by samtools)\n",
      "samtools: /home/zliu/miniconda3/bin/../lib/libtinfow.so.6: no version information available (required by samtools)\n",
      "samtools: /home/zliu/miniconda3/bin/../lib/libncursesw.so.6: no version information available (required by samtools)\n",
      "samtools: /home/zliu/miniconda3/bin/../lib/libncursesw.so.6: no version information available (required by samtools)\n"
     ]
    },
    {
     "name": "stdout",
     "output_type": "stream",
     "text": [
      "chr12: 1251248\n"
     ]
    },
    {
     "name": "stderr",
     "output_type": "stream",
     "text": [
      "samtools: /home/zliu/miniconda3/bin/../lib/libtinfow.so.6: no version information available (required by samtools)\n",
      "samtools: /home/zliu/miniconda3/bin/../lib/libncursesw.so.6: no version information available (required by samtools)\n",
      "samtools: /home/zliu/miniconda3/bin/../lib/libncursesw.so.6: no version information available (required by samtools)\n",
      "samtools: /home/zliu/miniconda3/bin/../lib/libtinfow.so.6: no version information available (required by samtools)\n",
      "samtools: /home/zliu/miniconda3/bin/../lib/libncursesw.so.6: no version information available (required by samtools)\n",
      "samtools: /home/zliu/miniconda3/bin/../lib/libncursesw.so.6: no version information available (required by samtools)\n"
     ]
    },
    {
     "name": "stdout",
     "output_type": "stream",
     "text": [
      "chr13: 1669714\n"
     ]
    },
    {
     "name": "stderr",
     "output_type": "stream",
     "text": [
      "samtools: /home/zliu/miniconda3/bin/../lib/libtinfow.so.6: no version information available (required by samtools)\n",
      "samtools: /home/zliu/miniconda3/bin/../lib/libncursesw.so.6: no version information available (required by samtools)\n",
      "samtools: /home/zliu/miniconda3/bin/../lib/libncursesw.so.6: no version information available (required by samtools)\n",
      "samtools: /home/zliu/miniconda3/bin/../lib/libtinfow.so.6: no version information available (required by samtools)\n",
      "samtools: /home/zliu/miniconda3/bin/../lib/libncursesw.so.6: no version information available (required by samtools)\n",
      "samtools: /home/zliu/miniconda3/bin/../lib/libncursesw.so.6: no version information available (required by samtools)\n"
     ]
    },
    {
     "name": "stdout",
     "output_type": "stream",
     "text": [
      "chr14: 1105276\n"
     ]
    },
    {
     "name": "stderr",
     "output_type": "stream",
     "text": [
      "samtools: /home/zliu/miniconda3/bin/../lib/libtinfow.so.6: no version information available (required by samtools)\n",
      "samtools: /home/zliu/miniconda3/bin/../lib/libncursesw.so.6: no version information available (required by samtools)\n",
      "samtools: /home/zliu/miniconda3/bin/../lib/libncursesw.so.6: no version information available (required by samtools)\n",
      "samtools: /home/zliu/miniconda3/bin/../lib/libtinfow.so.6: no version information available (required by samtools)\n",
      "samtools: /home/zliu/miniconda3/bin/../lib/libncursesw.so.6: no version information available (required by samtools)\n",
      "samtools: /home/zliu/miniconda3/bin/../lib/libncursesw.so.6: no version information available (required by samtools)\n"
     ]
    },
    {
     "name": "stdout",
     "output_type": "stream",
     "text": [
      "chr15: 1179938\n"
     ]
    },
    {
     "name": "stderr",
     "output_type": "stream",
     "text": [
      "samtools: /home/zliu/miniconda3/bin/../lib/libtinfow.so.6: no version information available (required by samtools)\n",
      "samtools: /home/zliu/miniconda3/bin/../lib/libncursesw.so.6: no version information available (required by samtools)\n",
      "samtools: /home/zliu/miniconda3/bin/../lib/libncursesw.so.6: no version information available (required by samtools)\n",
      "samtools: /home/zliu/miniconda3/bin/../lib/libtinfow.so.6: no version information available (required by samtools)\n",
      "samtools: /home/zliu/miniconda3/bin/../lib/libncursesw.so.6: no version information available (required by samtools)\n",
      "samtools: /home/zliu/miniconda3/bin/../lib/libncursesw.so.6: no version information available (required by samtools)\n"
     ]
    },
    {
     "name": "stdout",
     "output_type": "stream",
     "text": [
      "chr16: 1092107\n"
     ]
    },
    {
     "name": "stderr",
     "output_type": "stream",
     "text": [
      "samtools: /home/zliu/miniconda3/bin/../lib/libtinfow.so.6: no version information available (required by samtools)\n",
      "samtools: /home/zliu/miniconda3/bin/../lib/libncursesw.so.6: no version information available (required by samtools)\n",
      "samtools: /home/zliu/miniconda3/bin/../lib/libncursesw.so.6: no version information available (required by samtools)\n",
      "samtools: /home/zliu/miniconda3/bin/../lib/libtinfow.so.6: no version information available (required by samtools)\n",
      "samtools: /home/zliu/miniconda3/bin/../lib/libncursesw.so.6: no version information available (required by samtools)\n",
      "samtools: /home/zliu/miniconda3/bin/../lib/libncursesw.so.6: no version information available (required by samtools)\n"
     ]
    },
    {
     "name": "stdout",
     "output_type": "stream",
     "text": [
      "chr17: 5326606\n"
     ]
    },
    {
     "name": "stderr",
     "output_type": "stream",
     "text": [
      "samtools: /home/zliu/miniconda3/bin/../lib/libtinfow.so.6: no version information available (required by samtools)\n",
      "samtools: /home/zliu/miniconda3/bin/../lib/libncursesw.so.6: no version information available (required by samtools)\n",
      "samtools: /home/zliu/miniconda3/bin/../lib/libncursesw.so.6: no version information available (required by samtools)\n",
      "samtools: /home/zliu/miniconda3/bin/../lib/libtinfow.so.6: no version information available (required by samtools)\n",
      "samtools: /home/zliu/miniconda3/bin/../lib/libncursesw.so.6: no version information available (required by samtools)\n",
      "samtools: /home/zliu/miniconda3/bin/../lib/libncursesw.so.6: no version information available (required by samtools)\n"
     ]
    },
    {
     "name": "stdout",
     "output_type": "stream",
     "text": [
      "chr18: 885098\n"
     ]
    },
    {
     "name": "stderr",
     "output_type": "stream",
     "text": [
      "samtools: /home/zliu/miniconda3/bin/../lib/libtinfow.so.6: no version information available (required by samtools)\n",
      "samtools: /home/zliu/miniconda3/bin/../lib/libncursesw.so.6: no version information available (required by samtools)\n",
      "samtools: /home/zliu/miniconda3/bin/../lib/libncursesw.so.6: no version information available (required by samtools)\n",
      "samtools: /home/zliu/miniconda3/bin/../lib/libtinfow.so.6: no version information available (required by samtools)\n",
      "samtools: /home/zliu/miniconda3/bin/../lib/libncursesw.so.6: no version information available (required by samtools)\n",
      "samtools: /home/zliu/miniconda3/bin/../lib/libncursesw.so.6: no version information available (required by samtools)\n"
     ]
    },
    {
     "name": "stdout",
     "output_type": "stream",
     "text": [
      "chr19: 823068\n"
     ]
    }
   ],
   "source": [
    "import subprocess                         \n",
    "\n",
    "for i in range(1, 20):\n",
    "    bam_chr_file = f\"CLIP-chr{i}.bam\"\n",
    "    cmd = f\"samtools view -b -o {bam_chr_file} CLIP-35L33G.bam chr{i}\"\n",
    "    subprocess.run(cmd, shell=True)\n",
    "\n",
    "    cmd_count = f\"samtools view {bam_chr_file} | wc -l\"\n",
    "    count = subprocess.check_output(cmd_count, shell=True)\n",
    "    print(f\"chr{i}: {count.decode().strip()}\")\n"
   ]
  },
  {
   "attachments": {},
   "cell_type": "markdown",
   "metadata": {},
   "source": [
    "Align the sequencing data for each chromosome to form a pileup format."
   ]
  },
  {
   "cell_type": "code",
   "execution_count": 14,
   "metadata": {},
   "outputs": [
    {
     "name": "stderr",
     "output_type": "stream",
     "text": [
      "samtools: /home/zliu/miniconda3/bin/../lib/libtinfow.so.6: no version information available (required by samtools)\n",
      "samtools: /home/zliu/miniconda3/bin/../lib/libncursesw.so.6: no version information available (required by samtools)\n",
      "samtools: /home/zliu/miniconda3/bin/../lib/libncursesw.so.6: no version information available (required by samtools)\n",
      "[mpileup] 1 samples in 1 input files\n"
     ]
    },
    {
     "name": "stdout",
     "output_type": "stream",
     "text": [
      "chr1: 77960011 lines\n"
     ]
    },
    {
     "name": "stderr",
     "output_type": "stream",
     "text": [
      "samtools: /home/zliu/miniconda3/bin/../lib/libtinfow.so.6: no version information available (required by samtools)\n",
      "samtools: /home/zliu/miniconda3/bin/../lib/libncursesw.so.6: no version information available (required by samtools)\n",
      "samtools: /home/zliu/miniconda3/bin/../lib/libncursesw.so.6: no version information available (required by samtools)\n",
      "[mpileup] 1 samples in 1 input files\n"
     ]
    },
    {
     "name": "stdout",
     "output_type": "stream",
     "text": [
      "chr2: 71477096 lines\n"
     ]
    },
    {
     "name": "stderr",
     "output_type": "stream",
     "text": [
      "samtools: /home/zliu/miniconda3/bin/../lib/libtinfow.so.6: no version information available (required by samtools)\n",
      "samtools: /home/zliu/miniconda3/bin/../lib/libncursesw.so.6: no version information available (required by samtools)\n",
      "samtools: /home/zliu/miniconda3/bin/../lib/libncursesw.so.6: no version information available (required by samtools)\n",
      "[mpileup] 1 samples in 1 input files\n"
     ]
    },
    {
     "name": "stdout",
     "output_type": "stream",
     "text": [
      "chr3: 55571207 lines\n"
     ]
    },
    {
     "name": "stderr",
     "output_type": "stream",
     "text": [
      "samtools: /home/zliu/miniconda3/bin/../lib/libtinfow.so.6: no version information available (required by samtools)\n",
      "samtools: /home/zliu/miniconda3/bin/../lib/libncursesw.so.6: no version information available (required by samtools)\n",
      "samtools: /home/zliu/miniconda3/bin/../lib/libncursesw.so.6: no version information available (required by samtools)\n",
      "[mpileup] 1 samples in 1 input files\n"
     ]
    },
    {
     "name": "stdout",
     "output_type": "stream",
     "text": [
      "chr4: 57663905 lines\n"
     ]
    },
    {
     "name": "stderr",
     "output_type": "stream",
     "text": [
      "samtools: /home/zliu/miniconda3/bin/../lib/libtinfow.so.6: no version information available (required by samtools)\n",
      "samtools: /home/zliu/miniconda3/bin/../lib/libncursesw.so.6: no version information available (required by samtools)\n",
      "samtools: /home/zliu/miniconda3/bin/../lib/libncursesw.so.6: no version information available (required by samtools)\n",
      "[mpileup] 1 samples in 1 input files\n"
     ]
    },
    {
     "name": "stdout",
     "output_type": "stream",
     "text": [
      "chr5: 56679177 lines\n"
     ]
    },
    {
     "name": "stderr",
     "output_type": "stream",
     "text": [
      "samtools: /home/zliu/miniconda3/bin/../lib/libtinfow.so.6: no version information available (required by samtools)\n",
      "samtools: /home/zliu/miniconda3/bin/../lib/libncursesw.so.6: no version information available (required by samtools)\n",
      "samtools: /home/zliu/miniconda3/bin/../lib/libncursesw.so.6: no version information available (required by samtools)\n",
      "[mpileup] 1 samples in 1 input files\n"
     ]
    },
    {
     "name": "stdout",
     "output_type": "stream",
     "text": [
      "chr6: 52596274 lines\n"
     ]
    },
    {
     "name": "stderr",
     "output_type": "stream",
     "text": [
      "samtools: /home/zliu/miniconda3/bin/../lib/libtinfow.so.6: no version information available (required by samtools)\n",
      "samtools: /home/zliu/miniconda3/bin/../lib/libncursesw.so.6: no version information available (required by samtools)\n",
      "samtools: /home/zliu/miniconda3/bin/../lib/libncursesw.so.6: no version information available (required by samtools)\n",
      "[mpileup] 1 samples in 1 input files\n"
     ]
    },
    {
     "name": "stdout",
     "output_type": "stream",
     "text": [
      "chr7: 51119086 lines\n"
     ]
    },
    {
     "name": "stderr",
     "output_type": "stream",
     "text": [
      "samtools: /home/zliu/miniconda3/bin/../lib/libtinfow.so.6: no version information available (required by samtools)\n",
      "samtools: /home/zliu/miniconda3/bin/../lib/libncursesw.so.6: no version information available (required by samtools)\n",
      "samtools: /home/zliu/miniconda3/bin/../lib/libncursesw.so.6: no version information available (required by samtools)\n",
      "[mpileup] 1 samples in 1 input files\n"
     ]
    },
    {
     "name": "stdout",
     "output_type": "stream",
     "text": [
      "chr8: 46263546 lines\n"
     ]
    },
    {
     "name": "stderr",
     "output_type": "stream",
     "text": [
      "samtools: /home/zliu/miniconda3/bin/../lib/libtinfow.so.6: no version information available (required by samtools)\n",
      "samtools: /home/zliu/miniconda3/bin/../lib/libncursesw.so.6: no version information available (required by samtools)\n",
      "samtools: /home/zliu/miniconda3/bin/../lib/libncursesw.so.6: no version information available (required by samtools)\n",
      "[mpileup] 1 samples in 1 input files\n"
     ]
    },
    {
     "name": "stdout",
     "output_type": "stream",
     "text": [
      "chr9: 47304486 lines\n"
     ]
    },
    {
     "name": "stderr",
     "output_type": "stream",
     "text": [
      "samtools: /home/zliu/miniconda3/bin/../lib/libtinfow.so.6: no version information available (required by samtools)\n",
      "samtools: /home/zliu/miniconda3/bin/../lib/libncursesw.so.6: no version information available (required by samtools)\n",
      "samtools: /home/zliu/miniconda3/bin/../lib/libncursesw.so.6: no version information available (required by samtools)\n",
      "[mpileup] 1 samples in 1 input files\n"
     ]
    },
    {
     "name": "stdout",
     "output_type": "stream",
     "text": [
      "chr10: 47666391 lines\n"
     ]
    },
    {
     "name": "stderr",
     "output_type": "stream",
     "text": [
      "samtools: /home/zliu/miniconda3/bin/../lib/libtinfow.so.6: no version information available (required by samtools)\n",
      "samtools: /home/zliu/miniconda3/bin/../lib/libncursesw.so.6: no version information available (required by samtools)\n",
      "samtools: /home/zliu/miniconda3/bin/../lib/libncursesw.so.6: no version information available (required by samtools)\n",
      "[mpileup] 1 samples in 1 input files\n"
     ]
    },
    {
     "name": "stdout",
     "output_type": "stream",
     "text": [
      "chr11: 54087894 lines\n"
     ]
    },
    {
     "name": "stderr",
     "output_type": "stream",
     "text": [
      "samtools: /home/zliu/miniconda3/bin/../lib/libtinfow.so.6: no version information available (required by samtools)\n",
      "samtools: /home/zliu/miniconda3/bin/../lib/libncursesw.so.6: no version information available (required by samtools)\n",
      "samtools: /home/zliu/miniconda3/bin/../lib/libncursesw.so.6: no version information available (required by samtools)\n",
      "[mpileup] 1 samples in 1 input files\n"
     ]
    },
    {
     "name": "stdout",
     "output_type": "stream",
     "text": [
      "chr12: 42069818 lines\n"
     ]
    },
    {
     "name": "stderr",
     "output_type": "stream",
     "text": [
      "samtools: /home/zliu/miniconda3/bin/../lib/libtinfow.so.6: no version information available (required by samtools)\n",
      "samtools: /home/zliu/miniconda3/bin/../lib/libncursesw.so.6: no version information available (required by samtools)\n",
      "samtools: /home/zliu/miniconda3/bin/../lib/libncursesw.so.6: no version information available (required by samtools)\n",
      "[mpileup] 1 samples in 1 input files\n"
     ]
    },
    {
     "name": "stdout",
     "output_type": "stream",
     "text": [
      "chr13: 44620190 lines\n"
     ]
    },
    {
     "name": "stderr",
     "output_type": "stream",
     "text": [
      "samtools: /home/zliu/miniconda3/bin/../lib/libtinfow.so.6: no version information available (required by samtools)\n",
      "samtools: /home/zliu/miniconda3/bin/../lib/libncursesw.so.6: no version information available (required by samtools)\n",
      "samtools: /home/zliu/miniconda3/bin/../lib/libncursesw.so.6: no version information available (required by samtools)\n",
      "[mpileup] 1 samples in 1 input files\n"
     ]
    },
    {
     "name": "stdout",
     "output_type": "stream",
     "text": [
      "chr14: 40488435 lines\n"
     ]
    },
    {
     "name": "stderr",
     "output_type": "stream",
     "text": [
      "samtools: /home/zliu/miniconda3/bin/../lib/libtinfow.so.6: no version information available (required by samtools)\n",
      "samtools: /home/zliu/miniconda3/bin/../lib/libncursesw.so.6: no version information available (required by samtools)\n",
      "samtools: /home/zliu/miniconda3/bin/../lib/libncursesw.so.6: no version information available (required by samtools)\n",
      "[mpileup] 1 samples in 1 input files\n"
     ]
    },
    {
     "name": "stdout",
     "output_type": "stream",
     "text": [
      "chr15: 38275840 lines\n"
     ]
    },
    {
     "name": "stderr",
     "output_type": "stream",
     "text": [
      "samtools: /home/zliu/miniconda3/bin/../lib/libtinfow.so.6: no version information available (required by samtools)\n",
      "samtools: /home/zliu/miniconda3/bin/../lib/libncursesw.so.6: no version information available (required by samtools)\n",
      "samtools: /home/zliu/miniconda3/bin/../lib/libncursesw.so.6: no version information available (required by samtools)\n",
      "[mpileup] 1 samples in 1 input files\n"
     ]
    },
    {
     "name": "stdout",
     "output_type": "stream",
     "text": [
      "chr16: 33197654 lines\n"
     ]
    },
    {
     "name": "stderr",
     "output_type": "stream",
     "text": [
      "samtools: /home/zliu/miniconda3/bin/../lib/libtinfow.so.6: no version information available (required by samtools)\n",
      "samtools: /home/zliu/miniconda3/bin/../lib/libncursesw.so.6: no version information available (required by samtools)\n",
      "samtools: /home/zliu/miniconda3/bin/../lib/libncursesw.so.6: no version information available (required by samtools)\n",
      "[mpileup] 1 samples in 1 input files\n"
     ]
    },
    {
     "name": "stdout",
     "output_type": "stream",
     "text": [
      "chr17: 36236232 lines\n"
     ]
    },
    {
     "name": "stderr",
     "output_type": "stream",
     "text": [
      "samtools: /home/zliu/miniconda3/bin/../lib/libtinfow.so.6: no version information available (required by samtools)\n",
      "samtools: /home/zliu/miniconda3/bin/../lib/libncursesw.so.6: no version information available (required by samtools)\n",
      "samtools: /home/zliu/miniconda3/bin/../lib/libncursesw.so.6: no version information available (required by samtools)\n",
      "[mpileup] 1 samples in 1 input files\n"
     ]
    },
    {
     "name": "stdout",
     "output_type": "stream",
     "text": [
      "chr18: 29849906 lines\n"
     ]
    },
    {
     "name": "stderr",
     "output_type": "stream",
     "text": [
      "samtools: /home/zliu/miniconda3/bin/../lib/libtinfow.so.6: no version information available (required by samtools)\n",
      "samtools: /home/zliu/miniconda3/bin/../lib/libncursesw.so.6: no version information available (required by samtools)\n",
      "samtools: /home/zliu/miniconda3/bin/../lib/libncursesw.so.6: no version information available (required by samtools)\n",
      "[mpileup] 1 samples in 1 input files\n"
     ]
    },
    {
     "name": "stdout",
     "output_type": "stream",
     "text": [
      "chr19: 23000226 lines\n"
     ]
    }
   ],
   "source": [
    "for i in range(1, 20):\n",
    "    \n",
    "    input_bam = f\"CLIP-chr{i}.bam\"\n",
    "    output_pileup = f\"CLIP-chr{i}.pileup\"\n",
    "\n",
    "    # peiform samtools mpileup \n",
    "    mpileup_command = f\"samtools mpileup {input_bam} > {output_pileup}\"\n",
    "    subprocess.run(mpileup_command, shell=True)\n",
    "\n",
    "   # check the number of lines\n",
    "    wc_command = f\"wc -l {output_pileup}\"\n",
    "    wc_output = subprocess.check_output(wc_command, shell=True)\n",
    "    line_count = int(wc_output.decode().split()[0])   \n",
    "\n",
    "    print(f\"chr{i}: {line_count} lines\")    "
   ]
  },
  {
   "cell_type": "code",
   "execution_count": 99,
   "metadata": {},
   "outputs": [],
   "source": [
    "#define the function to calculate the entropy\n",
    "\n",
    "import pandas as pd\n",
    "import numpy as np\n",
    "import re\n",
    "\n",
    "from scipy.stats import entropy\n",
    "    \n",
    "def estimate_shannon_entropy(dna_sequence):\n",
    "    bases = collections.Counter([tmp_base for tmp_base in dna_sequence])\n",
    "    # define distribution\n",
    "    dist = [x/sum(bases.values()) for x in bases.values()]\n",
    " \n",
    "\n",
    "    entropy_value = entropy(dist, base=2)\n",
    " \n",
    "    return entropy_value"
   ]
  },
  {
   "cell_type": "code",
   "execution_count": 100,
   "metadata": {},
   "outputs": [
    {
     "name": "stderr",
     "output_type": "stream",
     "text": [
      "/tmp/ipykernel_198503/857024650.py:16: SettingWithCopyWarning: \n",
      "A value is trying to be set on a copy of a slice from a DataFrame.\n",
      "Try using .loc[row_indexer,col_indexer] = value instead\n",
      "\n",
      "See the caveats in the documentation: https://pandas.pydata.org/pandas-docs/stable/user_guide/indexing.html#returning-a-view-versus-a-copy\n",
      "  chr_pileup_filtered['sequence'] = chr_pileup_filtered['seq'].apply(lambda x: toremove.sub('', x))\n",
      "/tmp/ipykernel_198503/857024650.py:28: SettingWithCopyWarning: \n",
      "A value is trying to be set on a copy of a slice from a DataFrame.\n",
      "Try using .loc[row_indexer,col_indexer] = value instead\n",
      "\n",
      "See the caveats in the documentation: https://pandas.pydata.org/pandas-docs/stable/user_guide/indexing.html#returning-a-view-versus-a-copy\n",
      "  chr_bedgraph_pileup_data['-12'] = chr_bedgraph_pileup_data['startpoint'] - 12\n"
     ]
    },
    {
     "name": "stdout",
     "output_type": "stream",
     "text": [
      "Filtered data for chromosome 1:\n"
     ]
    },
    {
     "name": "stderr",
     "output_type": "stream",
     "text": [
      "/tmp/ipykernel_198503/857024650.py:16: SettingWithCopyWarning: \n",
      "A value is trying to be set on a copy of a slice from a DataFrame.\n",
      "Try using .loc[row_indexer,col_indexer] = value instead\n",
      "\n",
      "See the caveats in the documentation: https://pandas.pydata.org/pandas-docs/stable/user_guide/indexing.html#returning-a-view-versus-a-copy\n",
      "  chr_pileup_filtered['sequence'] = chr_pileup_filtered['seq'].apply(lambda x: toremove.sub('', x))\n",
      "/tmp/ipykernel_198503/857024650.py:28: SettingWithCopyWarning: \n",
      "A value is trying to be set on a copy of a slice from a DataFrame.\n",
      "Try using .loc[row_indexer,col_indexer] = value instead\n",
      "\n",
      "See the caveats in the documentation: https://pandas.pydata.org/pandas-docs/stable/user_guide/indexing.html#returning-a-view-versus-a-copy\n",
      "  chr_bedgraph_pileup_data['-12'] = chr_bedgraph_pileup_data['startpoint'] - 12\n"
     ]
    },
    {
     "name": "stdout",
     "output_type": "stream",
     "text": [
      "Filtered data for chromosome 2:\n"
     ]
    },
    {
     "name": "stderr",
     "output_type": "stream",
     "text": [
      "/tmp/ipykernel_198503/857024650.py:16: SettingWithCopyWarning: \n",
      "A value is trying to be set on a copy of a slice from a DataFrame.\n",
      "Try using .loc[row_indexer,col_indexer] = value instead\n",
      "\n",
      "See the caveats in the documentation: https://pandas.pydata.org/pandas-docs/stable/user_guide/indexing.html#returning-a-view-versus-a-copy\n",
      "  chr_pileup_filtered['sequence'] = chr_pileup_filtered['seq'].apply(lambda x: toremove.sub('', x))\n",
      "/tmp/ipykernel_198503/857024650.py:28: SettingWithCopyWarning: \n",
      "A value is trying to be set on a copy of a slice from a DataFrame.\n",
      "Try using .loc[row_indexer,col_indexer] = value instead\n",
      "\n",
      "See the caveats in the documentation: https://pandas.pydata.org/pandas-docs/stable/user_guide/indexing.html#returning-a-view-versus-a-copy\n",
      "  chr_bedgraph_pileup_data['-12'] = chr_bedgraph_pileup_data['startpoint'] - 12\n"
     ]
    },
    {
     "name": "stdout",
     "output_type": "stream",
     "text": [
      "Filtered data for chromosome 3:\n"
     ]
    },
    {
     "name": "stderr",
     "output_type": "stream",
     "text": [
      "/tmp/ipykernel_198503/857024650.py:16: SettingWithCopyWarning: \n",
      "A value is trying to be set on a copy of a slice from a DataFrame.\n",
      "Try using .loc[row_indexer,col_indexer] = value instead\n",
      "\n",
      "See the caveats in the documentation: https://pandas.pydata.org/pandas-docs/stable/user_guide/indexing.html#returning-a-view-versus-a-copy\n",
      "  chr_pileup_filtered['sequence'] = chr_pileup_filtered['seq'].apply(lambda x: toremove.sub('', x))\n",
      "/tmp/ipykernel_198503/857024650.py:28: SettingWithCopyWarning: \n",
      "A value is trying to be set on a copy of a slice from a DataFrame.\n",
      "Try using .loc[row_indexer,col_indexer] = value instead\n",
      "\n",
      "See the caveats in the documentation: https://pandas.pydata.org/pandas-docs/stable/user_guide/indexing.html#returning-a-view-versus-a-copy\n",
      "  chr_bedgraph_pileup_data['-12'] = chr_bedgraph_pileup_data['startpoint'] - 12\n"
     ]
    },
    {
     "name": "stdout",
     "output_type": "stream",
     "text": [
      "Filtered data for chromosome 4:\n"
     ]
    },
    {
     "name": "stderr",
     "output_type": "stream",
     "text": [
      "/tmp/ipykernel_198503/857024650.py:16: SettingWithCopyWarning: \n",
      "A value is trying to be set on a copy of a slice from a DataFrame.\n",
      "Try using .loc[row_indexer,col_indexer] = value instead\n",
      "\n",
      "See the caveats in the documentation: https://pandas.pydata.org/pandas-docs/stable/user_guide/indexing.html#returning-a-view-versus-a-copy\n",
      "  chr_pileup_filtered['sequence'] = chr_pileup_filtered['seq'].apply(lambda x: toremove.sub('', x))\n",
      "/tmp/ipykernel_198503/857024650.py:28: SettingWithCopyWarning: \n",
      "A value is trying to be set on a copy of a slice from a DataFrame.\n",
      "Try using .loc[row_indexer,col_indexer] = value instead\n",
      "\n",
      "See the caveats in the documentation: https://pandas.pydata.org/pandas-docs/stable/user_guide/indexing.html#returning-a-view-versus-a-copy\n",
      "  chr_bedgraph_pileup_data['-12'] = chr_bedgraph_pileup_data['startpoint'] - 12\n"
     ]
    },
    {
     "name": "stdout",
     "output_type": "stream",
     "text": [
      "Filtered data for chromosome 5:\n"
     ]
    },
    {
     "name": "stderr",
     "output_type": "stream",
     "text": [
      "/tmp/ipykernel_198503/857024650.py:16: SettingWithCopyWarning: \n",
      "A value is trying to be set on a copy of a slice from a DataFrame.\n",
      "Try using .loc[row_indexer,col_indexer] = value instead\n",
      "\n",
      "See the caveats in the documentation: https://pandas.pydata.org/pandas-docs/stable/user_guide/indexing.html#returning-a-view-versus-a-copy\n",
      "  chr_pileup_filtered['sequence'] = chr_pileup_filtered['seq'].apply(lambda x: toremove.sub('', x))\n",
      "/tmp/ipykernel_198503/857024650.py:28: SettingWithCopyWarning: \n",
      "A value is trying to be set on a copy of a slice from a DataFrame.\n",
      "Try using .loc[row_indexer,col_indexer] = value instead\n",
      "\n",
      "See the caveats in the documentation: https://pandas.pydata.org/pandas-docs/stable/user_guide/indexing.html#returning-a-view-versus-a-copy\n",
      "  chr_bedgraph_pileup_data['-12'] = chr_bedgraph_pileup_data['startpoint'] - 12\n"
     ]
    },
    {
     "name": "stdout",
     "output_type": "stream",
     "text": [
      "Filtered data for chromosome 6:\n"
     ]
    },
    {
     "name": "stderr",
     "output_type": "stream",
     "text": [
      "/tmp/ipykernel_198503/857024650.py:16: SettingWithCopyWarning: \n",
      "A value is trying to be set on a copy of a slice from a DataFrame.\n",
      "Try using .loc[row_indexer,col_indexer] = value instead\n",
      "\n",
      "See the caveats in the documentation: https://pandas.pydata.org/pandas-docs/stable/user_guide/indexing.html#returning-a-view-versus-a-copy\n",
      "  chr_pileup_filtered['sequence'] = chr_pileup_filtered['seq'].apply(lambda x: toremove.sub('', x))\n",
      "/tmp/ipykernel_198503/857024650.py:28: SettingWithCopyWarning: \n",
      "A value is trying to be set on a copy of a slice from a DataFrame.\n",
      "Try using .loc[row_indexer,col_indexer] = value instead\n",
      "\n",
      "See the caveats in the documentation: https://pandas.pydata.org/pandas-docs/stable/user_guide/indexing.html#returning-a-view-versus-a-copy\n",
      "  chr_bedgraph_pileup_data['-12'] = chr_bedgraph_pileup_data['startpoint'] - 12\n"
     ]
    },
    {
     "name": "stdout",
     "output_type": "stream",
     "text": [
      "Filtered data for chromosome 7:\n"
     ]
    },
    {
     "name": "stderr",
     "output_type": "stream",
     "text": [
      "/tmp/ipykernel_198503/857024650.py:16: SettingWithCopyWarning: \n",
      "A value is trying to be set on a copy of a slice from a DataFrame.\n",
      "Try using .loc[row_indexer,col_indexer] = value instead\n",
      "\n",
      "See the caveats in the documentation: https://pandas.pydata.org/pandas-docs/stable/user_guide/indexing.html#returning-a-view-versus-a-copy\n",
      "  chr_pileup_filtered['sequence'] = chr_pileup_filtered['seq'].apply(lambda x: toremove.sub('', x))\n",
      "/tmp/ipykernel_198503/857024650.py:28: SettingWithCopyWarning: \n",
      "A value is trying to be set on a copy of a slice from a DataFrame.\n",
      "Try using .loc[row_indexer,col_indexer] = value instead\n",
      "\n",
      "See the caveats in the documentation: https://pandas.pydata.org/pandas-docs/stable/user_guide/indexing.html#returning-a-view-versus-a-copy\n",
      "  chr_bedgraph_pileup_data['-12'] = chr_bedgraph_pileup_data['startpoint'] - 12\n"
     ]
    },
    {
     "name": "stdout",
     "output_type": "stream",
     "text": [
      "Filtered data for chromosome 8:\n"
     ]
    },
    {
     "name": "stderr",
     "output_type": "stream",
     "text": [
      "/tmp/ipykernel_198503/857024650.py:16: SettingWithCopyWarning: \n",
      "A value is trying to be set on a copy of a slice from a DataFrame.\n",
      "Try using .loc[row_indexer,col_indexer] = value instead\n",
      "\n",
      "See the caveats in the documentation: https://pandas.pydata.org/pandas-docs/stable/user_guide/indexing.html#returning-a-view-versus-a-copy\n",
      "  chr_pileup_filtered['sequence'] = chr_pileup_filtered['seq'].apply(lambda x: toremove.sub('', x))\n",
      "/tmp/ipykernel_198503/857024650.py:28: SettingWithCopyWarning: \n",
      "A value is trying to be set on a copy of a slice from a DataFrame.\n",
      "Try using .loc[row_indexer,col_indexer] = value instead\n",
      "\n",
      "See the caveats in the documentation: https://pandas.pydata.org/pandas-docs/stable/user_guide/indexing.html#returning-a-view-versus-a-copy\n",
      "  chr_bedgraph_pileup_data['-12'] = chr_bedgraph_pileup_data['startpoint'] - 12\n"
     ]
    },
    {
     "name": "stdout",
     "output_type": "stream",
     "text": [
      "Filtered data for chromosome 9:\n"
     ]
    },
    {
     "name": "stderr",
     "output_type": "stream",
     "text": [
      "/tmp/ipykernel_198503/857024650.py:16: SettingWithCopyWarning: \n",
      "A value is trying to be set on a copy of a slice from a DataFrame.\n",
      "Try using .loc[row_indexer,col_indexer] = value instead\n",
      "\n",
      "See the caveats in the documentation: https://pandas.pydata.org/pandas-docs/stable/user_guide/indexing.html#returning-a-view-versus-a-copy\n",
      "  chr_pileup_filtered['sequence'] = chr_pileup_filtered['seq'].apply(lambda x: toremove.sub('', x))\n",
      "/tmp/ipykernel_198503/857024650.py:28: SettingWithCopyWarning: \n",
      "A value is trying to be set on a copy of a slice from a DataFrame.\n",
      "Try using .loc[row_indexer,col_indexer] = value instead\n",
      "\n",
      "See the caveats in the documentation: https://pandas.pydata.org/pandas-docs/stable/user_guide/indexing.html#returning-a-view-versus-a-copy\n",
      "  chr_bedgraph_pileup_data['-12'] = chr_bedgraph_pileup_data['startpoint'] - 12\n"
     ]
    },
    {
     "name": "stdout",
     "output_type": "stream",
     "text": [
      "Filtered data for chromosome 10:\n"
     ]
    },
    {
     "name": "stderr",
     "output_type": "stream",
     "text": [
      "/tmp/ipykernel_198503/857024650.py:16: SettingWithCopyWarning: \n",
      "A value is trying to be set on a copy of a slice from a DataFrame.\n",
      "Try using .loc[row_indexer,col_indexer] = value instead\n",
      "\n",
      "See the caveats in the documentation: https://pandas.pydata.org/pandas-docs/stable/user_guide/indexing.html#returning-a-view-versus-a-copy\n",
      "  chr_pileup_filtered['sequence'] = chr_pileup_filtered['seq'].apply(lambda x: toremove.sub('', x))\n",
      "/tmp/ipykernel_198503/857024650.py:28: SettingWithCopyWarning: \n",
      "A value is trying to be set on a copy of a slice from a DataFrame.\n",
      "Try using .loc[row_indexer,col_indexer] = value instead\n",
      "\n",
      "See the caveats in the documentation: https://pandas.pydata.org/pandas-docs/stable/user_guide/indexing.html#returning-a-view-versus-a-copy\n",
      "  chr_bedgraph_pileup_data['-12'] = chr_bedgraph_pileup_data['startpoint'] - 12\n"
     ]
    },
    {
     "name": "stdout",
     "output_type": "stream",
     "text": [
      "Filtered data for chromosome 11:\n"
     ]
    },
    {
     "name": "stderr",
     "output_type": "stream",
     "text": [
      "/tmp/ipykernel_198503/857024650.py:16: SettingWithCopyWarning: \n",
      "A value is trying to be set on a copy of a slice from a DataFrame.\n",
      "Try using .loc[row_indexer,col_indexer] = value instead\n",
      "\n",
      "See the caveats in the documentation: https://pandas.pydata.org/pandas-docs/stable/user_guide/indexing.html#returning-a-view-versus-a-copy\n",
      "  chr_pileup_filtered['sequence'] = chr_pileup_filtered['seq'].apply(lambda x: toremove.sub('', x))\n",
      "/tmp/ipykernel_198503/857024650.py:28: SettingWithCopyWarning: \n",
      "A value is trying to be set on a copy of a slice from a DataFrame.\n",
      "Try using .loc[row_indexer,col_indexer] = value instead\n",
      "\n",
      "See the caveats in the documentation: https://pandas.pydata.org/pandas-docs/stable/user_guide/indexing.html#returning-a-view-versus-a-copy\n",
      "  chr_bedgraph_pileup_data['-12'] = chr_bedgraph_pileup_data['startpoint'] - 12\n"
     ]
    },
    {
     "name": "stdout",
     "output_type": "stream",
     "text": [
      "Filtered data for chromosome 12:\n"
     ]
    },
    {
     "name": "stderr",
     "output_type": "stream",
     "text": [
      "/tmp/ipykernel_198503/857024650.py:16: SettingWithCopyWarning: \n",
      "A value is trying to be set on a copy of a slice from a DataFrame.\n",
      "Try using .loc[row_indexer,col_indexer] = value instead\n",
      "\n",
      "See the caveats in the documentation: https://pandas.pydata.org/pandas-docs/stable/user_guide/indexing.html#returning-a-view-versus-a-copy\n",
      "  chr_pileup_filtered['sequence'] = chr_pileup_filtered['seq'].apply(lambda x: toremove.sub('', x))\n",
      "/tmp/ipykernel_198503/857024650.py:28: SettingWithCopyWarning: \n",
      "A value is trying to be set on a copy of a slice from a DataFrame.\n",
      "Try using .loc[row_indexer,col_indexer] = value instead\n",
      "\n",
      "See the caveats in the documentation: https://pandas.pydata.org/pandas-docs/stable/user_guide/indexing.html#returning-a-view-versus-a-copy\n",
      "  chr_bedgraph_pileup_data['-12'] = chr_bedgraph_pileup_data['startpoint'] - 12\n"
     ]
    },
    {
     "name": "stdout",
     "output_type": "stream",
     "text": [
      "Filtered data for chromosome 13:\n"
     ]
    },
    {
     "name": "stderr",
     "output_type": "stream",
     "text": [
      "/tmp/ipykernel_198503/857024650.py:16: SettingWithCopyWarning: \n",
      "A value is trying to be set on a copy of a slice from a DataFrame.\n",
      "Try using .loc[row_indexer,col_indexer] = value instead\n",
      "\n",
      "See the caveats in the documentation: https://pandas.pydata.org/pandas-docs/stable/user_guide/indexing.html#returning-a-view-versus-a-copy\n",
      "  chr_pileup_filtered['sequence'] = chr_pileup_filtered['seq'].apply(lambda x: toremove.sub('', x))\n",
      "/tmp/ipykernel_198503/857024650.py:28: SettingWithCopyWarning: \n",
      "A value is trying to be set on a copy of a slice from a DataFrame.\n",
      "Try using .loc[row_indexer,col_indexer] = value instead\n",
      "\n",
      "See the caveats in the documentation: https://pandas.pydata.org/pandas-docs/stable/user_guide/indexing.html#returning-a-view-versus-a-copy\n",
      "  chr_bedgraph_pileup_data['-12'] = chr_bedgraph_pileup_data['startpoint'] - 12\n"
     ]
    },
    {
     "name": "stdout",
     "output_type": "stream",
     "text": [
      "Filtered data for chromosome 14:\n"
     ]
    },
    {
     "name": "stderr",
     "output_type": "stream",
     "text": [
      "/tmp/ipykernel_198503/857024650.py:16: SettingWithCopyWarning: \n",
      "A value is trying to be set on a copy of a slice from a DataFrame.\n",
      "Try using .loc[row_indexer,col_indexer] = value instead\n",
      "\n",
      "See the caveats in the documentation: https://pandas.pydata.org/pandas-docs/stable/user_guide/indexing.html#returning-a-view-versus-a-copy\n",
      "  chr_pileup_filtered['sequence'] = chr_pileup_filtered['seq'].apply(lambda x: toremove.sub('', x))\n",
      "/tmp/ipykernel_198503/857024650.py:28: SettingWithCopyWarning: \n",
      "A value is trying to be set on a copy of a slice from a DataFrame.\n",
      "Try using .loc[row_indexer,col_indexer] = value instead\n",
      "\n",
      "See the caveats in the documentation: https://pandas.pydata.org/pandas-docs/stable/user_guide/indexing.html#returning-a-view-versus-a-copy\n",
      "  chr_bedgraph_pileup_data['-12'] = chr_bedgraph_pileup_data['startpoint'] - 12\n"
     ]
    },
    {
     "name": "stdout",
     "output_type": "stream",
     "text": [
      "Filtered data for chromosome 15:\n"
     ]
    },
    {
     "name": "stderr",
     "output_type": "stream",
     "text": [
      "/tmp/ipykernel_198503/857024650.py:16: SettingWithCopyWarning: \n",
      "A value is trying to be set on a copy of a slice from a DataFrame.\n",
      "Try using .loc[row_indexer,col_indexer] = value instead\n",
      "\n",
      "See the caveats in the documentation: https://pandas.pydata.org/pandas-docs/stable/user_guide/indexing.html#returning-a-view-versus-a-copy\n",
      "  chr_pileup_filtered['sequence'] = chr_pileup_filtered['seq'].apply(lambda x: toremove.sub('', x))\n",
      "/tmp/ipykernel_198503/857024650.py:28: SettingWithCopyWarning: \n",
      "A value is trying to be set on a copy of a slice from a DataFrame.\n",
      "Try using .loc[row_indexer,col_indexer] = value instead\n",
      "\n",
      "See the caveats in the documentation: https://pandas.pydata.org/pandas-docs/stable/user_guide/indexing.html#returning-a-view-versus-a-copy\n",
      "  chr_bedgraph_pileup_data['-12'] = chr_bedgraph_pileup_data['startpoint'] - 12\n"
     ]
    },
    {
     "name": "stdout",
     "output_type": "stream",
     "text": [
      "Filtered data for chromosome 16:\n"
     ]
    },
    {
     "name": "stderr",
     "output_type": "stream",
     "text": [
      "/tmp/ipykernel_198503/857024650.py:16: SettingWithCopyWarning: \n",
      "A value is trying to be set on a copy of a slice from a DataFrame.\n",
      "Try using .loc[row_indexer,col_indexer] = value instead\n",
      "\n",
      "See the caveats in the documentation: https://pandas.pydata.org/pandas-docs/stable/user_guide/indexing.html#returning-a-view-versus-a-copy\n",
      "  chr_pileup_filtered['sequence'] = chr_pileup_filtered['seq'].apply(lambda x: toremove.sub('', x))\n",
      "/tmp/ipykernel_198503/857024650.py:28: SettingWithCopyWarning: \n",
      "A value is trying to be set on a copy of a slice from a DataFrame.\n",
      "Try using .loc[row_indexer,col_indexer] = value instead\n",
      "\n",
      "See the caveats in the documentation: https://pandas.pydata.org/pandas-docs/stable/user_guide/indexing.html#returning-a-view-versus-a-copy\n",
      "  chr_bedgraph_pileup_data['-12'] = chr_bedgraph_pileup_data['startpoint'] - 12\n"
     ]
    },
    {
     "name": "stdout",
     "output_type": "stream",
     "text": [
      "Filtered data for chromosome 17:\n"
     ]
    },
    {
     "name": "stderr",
     "output_type": "stream",
     "text": [
      "/tmp/ipykernel_198503/857024650.py:16: SettingWithCopyWarning: \n",
      "A value is trying to be set on a copy of a slice from a DataFrame.\n",
      "Try using .loc[row_indexer,col_indexer] = value instead\n",
      "\n",
      "See the caveats in the documentation: https://pandas.pydata.org/pandas-docs/stable/user_guide/indexing.html#returning-a-view-versus-a-copy\n",
      "  chr_pileup_filtered['sequence'] = chr_pileup_filtered['seq'].apply(lambda x: toremove.sub('', x))\n",
      "/tmp/ipykernel_198503/857024650.py:28: SettingWithCopyWarning: \n",
      "A value is trying to be set on a copy of a slice from a DataFrame.\n",
      "Try using .loc[row_indexer,col_indexer] = value instead\n",
      "\n",
      "See the caveats in the documentation: https://pandas.pydata.org/pandas-docs/stable/user_guide/indexing.html#returning-a-view-versus-a-copy\n",
      "  chr_bedgraph_pileup_data['-12'] = chr_bedgraph_pileup_data['startpoint'] - 12\n"
     ]
    },
    {
     "name": "stdout",
     "output_type": "stream",
     "text": [
      "Filtered data for chromosome 18:\n"
     ]
    },
    {
     "name": "stderr",
     "output_type": "stream",
     "text": [
      "/tmp/ipykernel_198503/857024650.py:16: SettingWithCopyWarning: \n",
      "A value is trying to be set on a copy of a slice from a DataFrame.\n",
      "Try using .loc[row_indexer,col_indexer] = value instead\n",
      "\n",
      "See the caveats in the documentation: https://pandas.pydata.org/pandas-docs/stable/user_guide/indexing.html#returning-a-view-versus-a-copy\n",
      "  chr_pileup_filtered['sequence'] = chr_pileup_filtered['seq'].apply(lambda x: toremove.sub('', x))\n",
      "/tmp/ipykernel_198503/857024650.py:28: SettingWithCopyWarning: \n",
      "A value is trying to be set on a copy of a slice from a DataFrame.\n",
      "Try using .loc[row_indexer,col_indexer] = value instead\n",
      "\n",
      "See the caveats in the documentation: https://pandas.pydata.org/pandas-docs/stable/user_guide/indexing.html#returning-a-view-versus-a-copy\n",
      "  chr_bedgraph_pileup_data['-12'] = chr_bedgraph_pileup_data['startpoint'] - 12\n"
     ]
    },
    {
     "name": "stdout",
     "output_type": "stream",
     "text": [
      "Filtered data for chromosome 19:\n"
     ]
    }
   ],
   "source": [
    "import pandas as pd\n",
    "\n",
    "\n",
    "for i in range(1, 20):\n",
    "\n",
    "    file_name = f'CLIP-chr{i}.pileup'\n",
    "    \n",
    "    # Read the pileup data for the current chromosome\n",
    "    chr_pileup = pd.read_csv(file_name, sep='\\t', names=['chr', 'startpoint', 'reference', 'readcount', 'seq', 'score'], index_col=None)\n",
    "    \n",
    "    # Filter the data based on readcount >50\n",
    "    chr_pileup_filtered = chr_pileup[chr_pileup['readcount'] > 50]\n",
    "    \n",
    "    toremove = re.compile(r'[<>$*#+-]|\\^.|[0-9]')      #base qc\n",
    "    \n",
    "    chr_pileup_filtered['sequence'] = chr_pileup_filtered['seq'].apply(lambda x: toremove.sub('', x))\n",
    "    \n",
    "    chr_pileup_filtered = chr_pileup_filtered[['chr', 'startpoint', 'sequence']]\n",
    "\n",
    "    chr_pileup_filtered['length_seq'] = chr_pileup_filtered['sequence'].str.len()    #get the length of seq\n",
    "    \n",
    "    chr_pileup_filtered['entropy'] = chr_pileup_filtered['sequence'].map(lambda x : estimate_shannon_entropy(x))   #calculate the entropy\n",
    "\n",
    "    chr_pileup_filtered['endpoint'] = chr_pileup_filtered['startpoint'] +  chr_pileup_filtered['length_seq']    \n",
    "    \n",
    "    chr_bedgraph_pileup_data = chr_pileup_filtered[['chr','startpoint','endpoint','entropy']]\n",
    "    \n",
    "    chr_bedgraph_pileup_data['-12'] = chr_bedgraph_pileup_data['startpoint'] - 12\n",
    "    chr_bedgraph_pileup_data['+11'] = chr_bedgraph_pileup_data['startpoint'] + 11\n",
    "    \n",
    "    chr_bedgraph_pileup_fromstart = chr_bedgraph_pileup_data[['chr','-12','+11','entropy']]    #get the interval \n",
    "    \n",
    "    filtered_file_name = f'chr{i}_bedgraph_pileup_f.csv'\n",
    "\n",
    "    \n",
    "    # Save the filtered data as a CSV file\n",
    "    chr_bedgraph_pileup_f.to_csv(filtered_file_name, index=False)\n",
    "    \n",
    "    # current chromosome\n",
    "    print(f\"Filtered data for chromosome {i}:\")\n",
    "\n"
   ]
  },
  {
   "cell_type": "code",
   "execution_count": 105,
   "metadata": {},
   "outputs": [
    {
     "name": "stdout",
     "output_type": "stream",
     "text": [
      "done for chr1\n",
      "done for chr2\n",
      "done for chr3\n",
      "done for chr4\n",
      "done for chr5\n",
      "done for chr6\n",
      "done for chr7\n",
      "done for chr8\n",
      "done for chr9\n",
      "done for chr10\n",
      "done for chr11\n",
      "done for chr12\n",
      "done for chr13\n",
      "done for chr14\n",
      "done for chr15\n",
      "done for chr16\n",
      "done for chr17\n",
      "done for chr18\n",
      "done for chr19\n"
     ]
    }
   ],
   "source": [
    "#filter the samples based on the entropy (>0.7)\n",
    "\n",
    "for i in range(1, 20):\n",
    "    \n",
    "    file_name = f'chr{i}_bedgraph_pileup_f.csv'\n",
    "    \n",
    "    \n",
    "    chr_data = pd.read_csv(file_name)\n",
    "    chr_pileup_entropycut = chr_data[chr_data['entropy']>0.7]\n",
    "    \n",
    "    filtered_file_name = f'chr{i}_bedgraph.bed'\n",
    "\n",
    "    \n",
    "    # Save the filtered data as a CSV file\n",
    "    chr_pileup_entropycut .to_csv(filtered_file_name, header=None, index=False, sep='\\t')\n",
    "    print(f\"done for chr{i}\")"
   ]
  },
  {
   "cell_type": "code",
   "execution_count": 106,
   "metadata": {},
   "outputs": [
    {
     "name": "stdout",
     "output_type": "stream",
     "text": [
      "Processed data for chromosome chr1\n",
      "Processed data for chromosome chr2\n",
      "Processed data for chromosome chr3\n",
      "Processed data for chromosome chr4\n",
      "Processed data for chromosome chr5\n",
      "Processed data for chromosome chr6\n",
      "Processed data for chromosome chr7\n",
      "Processed data for chromosome chr8\n",
      "Processed data for chromosome chr9\n",
      "Processed data for chromosome chr10\n",
      "Processed data for chromosome chr11\n",
      "Processed data for chromosome chr12\n",
      "Processed data for chromosome chr13\n",
      "Processed data for chromosome chr14\n",
      "Processed data for chromosome chr15\n",
      "Processed data for chromosome chr16\n",
      "Processed data for chromosome chr17\n",
      "Processed data for chromosome chr18\n",
      "Processed data for chromosome chr19\n"
     ]
    }
   ],
   "source": [
    "#asign the sequencing data to the reference gene by each chromosome\n",
    "\n",
    "import subprocess\n",
    "\n",
    "\n",
    "for i in range(1, 20):\n",
    "\n",
    "    command = f\"bedtools getfasta -fi GRCm39.primary_assembly.genome.fa -bed chr{i}_bedgraph.bed -fo chr{i}_CLIP_entropy.fa\"\n",
    "    \n",
    "\n",
    "    subprocess.run(command, shell=True)\n",
    "\n",
    "    print(f\"Processed data for chromosome chr{i}\")\n"
   ]
  },
  {
   "cell_type": "code",
   "execution_count": 89,
   "metadata": {},
   "outputs": [
    {
     "name": "stdout",
     "output_type": "stream",
     "text": [
      ">chr1:3222714-3222737\n",
      "AAAATTTAGAGGCGTAGACAGTT\n",
      ">chr1:3224564-3224587\n",
      "AGATGGAGCGCGGTGGCTGCCAG\n",
      ">chr1:3664204-3664227\n",
      "TTAATCAACTATGTGTGTGTGTG\n",
      ">chr1:3664205-3664228\n",
      "TAATCAACTATGTGTGTGTGTGT\n",
      ">chr1:3664206-3664229\n",
      "AATCAACTATGTGTGTGTGTGTG\n"
     ]
    }
   ],
   "source": [
    "!head chr1_CLIP_entropy.fa  "
   ]
  },
  {
   "cell_type": "code",
   "execution_count": 107,
   "metadata": {},
   "outputs": [
    {
     "name": "stdout",
     "output_type": "stream",
     "text": [
      "Processed data for chromosome chr1\n",
      "Processed data for chromosome chr2\n",
      "Processed data for chromosome chr3\n",
      "Processed data for chromosome chr4\n",
      "Processed data for chromosome chr5\n",
      "Processed data for chromosome chr6\n",
      "Processed data for chromosome chr7\n",
      "Processed data for chromosome chr8\n",
      "Processed data for chromosome chr9\n",
      "Processed data for chromosome chr10\n",
      "Processed data for chromosome chr11\n",
      "Processed data for chromosome chr12\n",
      "Processed data for chromosome chr13\n",
      "Processed data for chromosome chr14\n",
      "Processed data for chromosome chr15\n",
      "Processed data for chromosome chr16\n",
      "Processed data for chromosome chr17\n",
      "Processed data for chromosome chr18\n",
      "Processed data for chromosome chr19\n"
     ]
    }
   ],
   "source": [
    "#get the base only\n",
    "import subprocess\n",
    "\n",
    "for i in range(1, 20):\n",
    "\n",
    "    command = f\"grep '[A-Z][A-Z][A-Z][A-Z][A-Z][A-Z][A-Z][A-Z][A-Z][A-Z][A-Z]G[A-Z][A-Z][A-Z][A-Z][A-Z][A-Z][A-Z][A-Z][A-Z][A-Z][A-Z]' chr{i}_CLIP_entropy.fa > chr{i}_CLIP_ent_g.fa\"\n",
    "\n",
    "    subprocess.run(command, shell=True)\n",
    "    \n",
    "\n",
    "    print(f\"Processed data for chromosome chr{i}\")\n"
   ]
  },
  {
   "cell_type": "code",
   "execution_count": 108,
   "metadata": {},
   "outputs": [
    {
     "name": "stdout",
     "output_type": "stream",
     "text": [
      "chr10_CLIP_ent_g.fa  chr17_CLIP_ent_g.fa  chr5_CLIP_ent_g.fa\n",
      "chr11_CLIP_ent_g.fa  chr18_CLIP_ent_g.fa  chr6_CLIP_ent_g.fa\n",
      "chr12_CLIP_ent_g.fa  chr19_CLIP_ent_g.fa  chr7_CLIP_ent_g.fa\n",
      "chr13_CLIP_ent_g.fa  chr1_CLIP_ent_g.fa   chr8_CLIP_ent_g.fa\n",
      "chr14_CLIP_ent_g.fa  chr2_CLIP_ent_g.fa   chr9_CLIP_ent_g.fa\n",
      "chr15_CLIP_ent_g.fa  chr3_CLIP_ent_g.fa\n",
      "chr16_CLIP_ent_g.fa  chr4_CLIP_ent_g.fa\n"
     ]
    }
   ],
   "source": [
    "!ls chr*_CLIP_ent_g.fa   #check whether the result of each chromosome exist"
   ]
  },
  {
   "cell_type": "code",
   "execution_count": 114,
   "metadata": {},
   "outputs": [],
   "source": [
    "!ls chr*_CLIP_ent_g.fa | xargs cat > allchr_CLIP_ent_g.fa    #intergrate all the results"
   ]
  },
  {
   "cell_type": "code",
   "execution_count": 111,
   "metadata": {},
   "outputs": [],
   "source": [
    "!less allchr_CLIP_ent_g.fa | head -10000 > allchr_CLIP_ent_g_1.fa    #the Weblogo only can process 10000\n",
    "!sed -e 's/T/U/g' allchr_CLIP_ent_g_1.fa > allchr_CLIP_ent_g_u_1.fa"
   ]
  },
  {
   "cell_type": "code",
   "execution_count": null,
   "metadata": {},
   "outputs": [],
   "source": []
  }
 ],
 "metadata": {
  "colab": {
   "provenance": []
  },
  "kernelspec": {
   "display_name": "Python 3 (ipykernel)",
   "language": "python",
   "name": "python3"
  },
  "language_info": {
   "codemirror_mode": {
    "name": "ipython",
    "version": 3
   },
   "file_extension": ".py",
   "mimetype": "text/x-python",
   "name": "python",
   "nbconvert_exporter": "python",
   "pygments_lexer": "ipython3",
   "version": "3.9.12"
  }
 },
 "nbformat": 4,
 "nbformat_minor": 4
}
